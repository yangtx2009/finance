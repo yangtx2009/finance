{
 "cells": [
  {
   "cell_type": "code",
   "execution_count": 3,
   "metadata": {},
   "outputs": [],
   "source": [
    "from bokeh.io import output_file, show\n",
    "from bokeh.models import ColumnDataSource, GMapOptions, CustomJS\n",
    "from bokeh.plotting import gmap, ColumnDataSource, figure\n",
    "from bokeh.layouts import column, row\n",
    "from bokeh.models.widgets import RangeSlider \n",
    "import numpy as np"
   ]
  },
  {
   "cell_type": "code",
   "execution_count": 5,
   "metadata": {},
   "outputs": [],
   "source": [
    "lon = [48.7886, 48.7887, 48.7888, 48.7889, 48.789]\n",
    "lat = [8.92, 8.921, 8.922, 8.923, 8.924]"
   ]
  },
  {
   "cell_type": "code",
   "execution_count": 5,
   "metadata": {},
   "outputs": [
    {
     "ename": "NameError",
     "evalue": "name '__file__' is not defined",
     "output_type": "error",
     "traceback": [
      "\u001b[1;31m---------------------------------------------------------------------------\u001b[0m",
      "\u001b[1;31mNameError\u001b[0m                                 Traceback (most recent call last)",
      "\u001b[1;32md:\\Projects\\finance\\Data\\News\\timeline_visualization.ipynb Cell 3\u001b[0m line \u001b[0;36m4\n\u001b[0;32m      <a href='vscode-notebook-cell:/d%3A/Projects/finance/Data/News/timeline_visualization.ipynb#W2sZmlsZQ%3D%3D?line=1'>2</a>\u001b[0m \u001b[39mdef\u001b[39;00m \u001b[39mfunc\u001b[39m():\n\u001b[0;32m      <a href='vscode-notebook-cell:/d%3A/Projects/finance/Data/News/timeline_visualization.ipynb#W2sZmlsZQ%3D%3D?line=2'>3</a>\u001b[0m     \u001b[39mprint\u001b[39m(pathlib\u001b[39m.\u001b[39mPath(\u001b[39m__file__\u001b[39m)\u001b[39m.\u001b[39mparent)\n\u001b[1;32m----> <a href='vscode-notebook-cell:/d%3A/Projects/finance/Data/News/timeline_visualization.ipynb#W2sZmlsZQ%3D%3D?line=3'>4</a>\u001b[0m func()\n",
      "\u001b[1;32md:\\Projects\\finance\\Data\\News\\timeline_visualization.ipynb Cell 3\u001b[0m line \u001b[0;36m3\n\u001b[0;32m      <a href='vscode-notebook-cell:/d%3A/Projects/finance/Data/News/timeline_visualization.ipynb#W2sZmlsZQ%3D%3D?line=1'>2</a>\u001b[0m \u001b[39mdef\u001b[39;00m \u001b[39mfunc\u001b[39m():\n\u001b[1;32m----> <a href='vscode-notebook-cell:/d%3A/Projects/finance/Data/News/timeline_visualization.ipynb#W2sZmlsZQ%3D%3D?line=2'>3</a>\u001b[0m     \u001b[39mprint\u001b[39m(pathlib\u001b[39m.\u001b[39mPath(\u001b[39m__file__\u001b[39;49m)\u001b[39m.\u001b[39mparent)\n",
      "\u001b[1;31mNameError\u001b[0m: name '__file__' is not defined"
     ]
    }
   ],
   "source": []
  }
 ],
 "metadata": {
  "kernelspec": {
   "display_name": "Python 3",
   "language": "python",
   "name": "python3"
  },
  "language_info": {
   "codemirror_mode": {
    "name": "ipython",
    "version": 3
   },
   "file_extension": ".py",
   "mimetype": "text/x-python",
   "name": "python",
   "nbconvert_exporter": "python",
   "pygments_lexer": "ipython3",
   "version": "3.10.11"
  }
 },
 "nbformat": 4,
 "nbformat_minor": 2
}
